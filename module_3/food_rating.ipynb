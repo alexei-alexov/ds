{
 "cells": [
  {
   "cell_type": "markdown",
   "metadata": {},
   "source": [
    "# Trip Advisor rating prediction"
   ]
  },
  {
   "cell_type": "markdown",
   "metadata": {},
   "source": [
    "## Data load"
   ]
  },
  {
   "cell_type": "code",
   "execution_count": 1,
   "metadata": {},
   "outputs": [],
   "source": [
    "import pandas as pd"
   ]
  },
  {
   "cell_type": "code",
   "execution_count": 189,
   "metadata": {},
   "outputs": [],
   "source": [
    "df_train = pd.read_csv('main_task.csv')\n",
    "df_test = pd.read_csv('kaggle_task.csv')\n",
    "sample_submission = pd.read_csv('sample_submission.csv')"
   ]
  },
  {
   "cell_type": "code",
   "execution_count": 192,
   "metadata": {},
   "outputs": [
    {
     "data": {
      "text/html": [
       "<div>\n",
       "<style scoped>\n",
       "    .dataframe tbody tr th:only-of-type {\n",
       "        vertical-align: middle;\n",
       "    }\n",
       "\n",
       "    .dataframe tbody tr th {\n",
       "        vertical-align: top;\n",
       "    }\n",
       "\n",
       "    .dataframe thead th {\n",
       "        text-align: right;\n",
       "    }\n",
       "</style>\n",
       "<table border=\"1\" class=\"dataframe\">\n",
       "  <thead>\n",
       "    <tr style=\"text-align: right;\">\n",
       "      <th></th>\n",
       "      <th>Restaurant_id</th>\n",
       "      <th>City</th>\n",
       "      <th>Cuisine Style</th>\n",
       "      <th>Ranking</th>\n",
       "      <th>Rating</th>\n",
       "      <th>Price Range</th>\n",
       "      <th>Number of Reviews</th>\n",
       "      <th>Reviews</th>\n",
       "      <th>URL_TA</th>\n",
       "      <th>ID_TA</th>\n",
       "    </tr>\n",
       "  </thead>\n",
       "  <tbody>\n",
       "    <tr>\n",
       "      <th>24980</th>\n",
       "      <td>id_2113</td>\n",
       "      <td>Rome</td>\n",
       "      <td>['Italian', 'Mediterranean', 'European']</td>\n",
       "      <td>2114.0</td>\n",
       "      <td>4.5</td>\n",
       "      <td>$</td>\n",
       "      <td>99.0</td>\n",
       "      <td>[['Unexpected find', 'After Coppedè'], ['12/05...</td>\n",
       "      <td>/Restaurant_Review-g187791-d2707550-Reviews-Di...</td>\n",
       "      <td>d2707550</td>\n",
       "    </tr>\n",
       "    <tr>\n",
       "      <th>23490</th>\n",
       "      <td>id_4426</td>\n",
       "      <td>Paris</td>\n",
       "      <td>['French', 'Cafe', 'European', 'Vegetarian Fri...</td>\n",
       "      <td>4427.0</td>\n",
       "      <td>4.0</td>\n",
       "      <td>$$ - $$$</td>\n",
       "      <td>122.0</td>\n",
       "      <td>[['4 hours of peace and great service', 'Busin...</td>\n",
       "      <td>/Restaurant_Review-g187147-d940196-Reviews-La_...</td>\n",
       "      <td>d940196</td>\n",
       "    </tr>\n",
       "    <tr>\n",
       "      <th>31976</th>\n",
       "      <td>id_388</td>\n",
       "      <td>Copenhagen</td>\n",
       "      <td>['Italian', 'Mediterranean', 'European', 'Vege...</td>\n",
       "      <td>389.0</td>\n",
       "      <td>4.5</td>\n",
       "      <td>$</td>\n",
       "      <td>76.0</td>\n",
       "      <td>[['Delicious pastas made by real Italians', 'O...</td>\n",
       "      <td>/Restaurant_Review-g189541-d7202732-Reviews-Il...</td>\n",
       "      <td>d7202732</td>\n",
       "    </tr>\n",
       "    <tr>\n",
       "      <th>28662</th>\n",
       "      <td>id_6040</td>\n",
       "      <td>Berlin</td>\n",
       "      <td>['German']</td>\n",
       "      <td>6042.0</td>\n",
       "      <td>3.5</td>\n",
       "      <td>$$ - $$$</td>\n",
       "      <td>25.0</td>\n",
       "      <td>[['Delicious', 'Good Food from south west Germ...</td>\n",
       "      <td>/Restaurant_Review-g187323-d3644760-Reviews-Ga...</td>\n",
       "      <td>d3644760</td>\n",
       "    </tr>\n",
       "    <tr>\n",
       "      <th>15215</th>\n",
       "      <td>id_15278</td>\n",
       "      <td>London</td>\n",
       "      <td>['Indian', 'Asian', 'Bangladeshi']</td>\n",
       "      <td>15290.0</td>\n",
       "      <td>3.0</td>\n",
       "      <td>$$ - $$$</td>\n",
       "      <td>17.0</td>\n",
       "      <td>[['Eating in, food good, ambiance poor.', 'Lal...</td>\n",
       "      <td>/Restaurant_Review-g186338-d5615942-Reviews-La...</td>\n",
       "      <td>d5615942</td>\n",
       "    </tr>\n",
       "  </tbody>\n",
       "</table>\n",
       "</div>"
      ],
      "text/plain": [
       "      Restaurant_id        City  \\\n",
       "24980       id_2113        Rome   \n",
       "23490       id_4426       Paris   \n",
       "31976        id_388  Copenhagen   \n",
       "28662       id_6040      Berlin   \n",
       "15215      id_15278      London   \n",
       "\n",
       "                                           Cuisine Style  Ranking  Rating  \\\n",
       "24980           ['Italian', 'Mediterranean', 'European']   2114.0     4.5   \n",
       "23490  ['French', 'Cafe', 'European', 'Vegetarian Fri...   4427.0     4.0   \n",
       "31976  ['Italian', 'Mediterranean', 'European', 'Vege...    389.0     4.5   \n",
       "28662                                         ['German']   6042.0     3.5   \n",
       "15215                 ['Indian', 'Asian', 'Bangladeshi']  15290.0     3.0   \n",
       "\n",
       "      Price Range  Number of Reviews  \\\n",
       "24980           $               99.0   \n",
       "23490    $$ - $$$              122.0   \n",
       "31976           $               76.0   \n",
       "28662    $$ - $$$               25.0   \n",
       "15215    $$ - $$$               17.0   \n",
       "\n",
       "                                                 Reviews  \\\n",
       "24980  [['Unexpected find', 'After Coppedè'], ['12/05...   \n",
       "23490  [['4 hours of peace and great service', 'Busin...   \n",
       "31976  [['Delicious pastas made by real Italians', 'O...   \n",
       "28662  [['Delicious', 'Good Food from south west Germ...   \n",
       "15215  [['Eating in, food good, ambiance poor.', 'Lal...   \n",
       "\n",
       "                                                  URL_TA     ID_TA  \n",
       "24980  /Restaurant_Review-g187791-d2707550-Reviews-Di...  d2707550  \n",
       "23490  /Restaurant_Review-g187147-d940196-Reviews-La_...   d940196  \n",
       "31976  /Restaurant_Review-g189541-d7202732-Reviews-Il...  d7202732  \n",
       "28662  /Restaurant_Review-g187323-d3644760-Reviews-Ga...  d3644760  \n",
       "15215  /Restaurant_Review-g186338-d5615942-Reviews-La...  d5615942  "
      ]
     },
     "execution_count": 192,
     "metadata": {},
     "output_type": "execute_result"
    }
   ],
   "source": [
    "df_train.sample(5)"
   ]
  },
  {
   "cell_type": "code",
   "execution_count": 155,
   "metadata": {},
   "outputs": [],
   "source": [
    "df_train['sample'] = 1\n",
    "df_test['sample'] = 0\n",
    "df_test['Rating'] = 0\n",
    "data = df_test.append(df_train, sort=False).reset_index(drop=True)"
   ]
  },
  {
   "cell_type": "markdown",
   "metadata": {},
   "source": [
    "## Processing\n",
    "\n",
    "### Columns processing strategy\n",
    "\n",
    "Columns:\n",
    "    \n",
    "- `Restaurant_id`: No processing\n",
    "- `City`: Dummy variables\n",
    "- `Cuisine Style`: Multilabel binarizer\n",
    "- `Ranking`: Just leave it as is\n",
    "- `Rating`: Target variable (Y)\n",
    "- `Price Range`: Map string into a number values\n",
    "- `Number of Reviews`: Just fill NA with 0\n",
    "- `Reviews`: Extract last - first review date, dates diff in days\n",
    "- `URL_TA`: Drop (could be used to load data from the site)\n",
    "- `ID_TA`: Drop"
   ]
  },
  {
   "cell_type": "code",
   "execution_count": 208,
   "metadata": {},
   "outputs": [],
   "source": [
    "import json\n",
    "import datetime\n",
    "from ast import literal_eval\n",
    "from collections import Counter\n",
    "from sklearn.preprocessing import MultiLabelBinarizer\n",
    "\n",
    "\n",
    "class DataProcessor:\n",
    "    \n",
    "    \"\"\"Main data processing class.\n",
    "    \n",
    "    This class is responsible for processing raw dataframe into a `ready-for-train` dataframe.\n",
    "    \"\"\"\n",
    "\n",
    "    # Number of separate dummy variables for top cuisine styles.\n",
    "    TOP_CUISINE_COUNT = 50\n",
    "    # Any other non-top cuisine style will be indicated in this column.\n",
    "    OTHER_CUISINE_KEY = 'Other'\n",
    "    # Columns to be dropped after processing.\n",
    "    COLUMNS_TO_DROP = ['Restaurant_id', 'Reviews', 'City',\n",
    "                       'Cuisine Style', 'URL_TA',\n",
    "                       'ID_TA', 'Price Range']\n",
    "    \n",
    "    # Ordinal category mapping for a price column\n",
    "    price_mapping = {\n",
    "        '$': 1,\n",
    "        '$$-$$$': 2,\n",
    "        '$$$$': 3\n",
    "    }\n",
    "\n",
    "    def process(self, data: pd.DataFrame):\n",
    "        \"\"\"Do the whole processing stuff.\n",
    "        \n",
    "        Make a copy of DataFrame.\n",
    "        Handle N/A in columns\n",
    "        Process features and extract the data from them.\n",
    "        \"\"\"\n",
    "        data = data.copy()\n",
    "\n",
    "        self.handle_na(data)\n",
    "\n",
    "        data = self.process_city(data)\n",
    "        data = self.process_price_range(data)\n",
    "        data = self.process_reviews(data)\n",
    "        data = self.process_cuisine(data)\n",
    "\n",
    "        return data.drop(self.COLUMNS_TO_DROP, axis = 1)\n",
    "        \n",
    "    def handle_na(self, data):\n",
    "        \"\"\"Handle N/A in data\"\"\"\n",
    "        data['Number of Reviews'].fillna(0, inplace=True)\n",
    "        data['Reviews'].fillna('[[],[]]', inplace=True)\n",
    "        data['Cuisine Style'].fillna(\"[]\", inplace=True)\n",
    "        \n",
    "    def process_city(self, data):\n",
    "        \"\"\"Proecss city data, make dummy variables\"\"\"\n",
    "        city_df = pd.get_dummies(data.City, prefix='City')\n",
    "        return data.merge(city_df, left_index=True, right_index=True)\n",
    "    \n",
    "    def process_price_range(self, data):\n",
    "        \"\"\"Process price range column\n",
    "        \n",
    "        Add column to indicate if price range was entered.\n",
    "        Replace strings with numbers\n",
    "        \"\"\"\n",
    "        def inner_process_price_range(row):\n",
    "            \"\"\"Map price range string, add column for N/A\"\"\"\n",
    "            row = row.copy()\n",
    "            v = self.price_mapping.get(row['Price Range'], 0)\n",
    "            row['Price Range Ord'] = v\n",
    "            row['Price Range NA'] = bool(v)\n",
    "            return row\n",
    "\n",
    "        return data.apply(inner_process_price_range, axis=1)\n",
    "    \n",
    "    def process_reviews(self, data):\n",
    "        \"\"\"Process reviews\n",
    "        \n",
    "        Extract from reviews:\n",
    "        - last review date timestamp\n",
    "        - first review date timestamp\n",
    "        - difference between first and last review in days\n",
    "        - column indicating absence of text reviews\n",
    "        \"\"\"\n",
    "        def inner_process_reviews(row):\n",
    "            \"\"\"Extract last review date and first review date from a column.\"\"\"\n",
    "            row = row.copy()\n",
    "            reviews = literal_eval(row['Reviews'].replace(\"nan\", 'None'))\n",
    "            # if there are reviews\n",
    "            if reviews[0]:\n",
    "                last_review = max(map(lambda x: datetime.datetime.strptime(x, '%m/%d/%Y'), reviews[1]))\n",
    "                first_review = min(map(lambda x: datetime.datetime.strptime(x, '%m/%d/%Y'), reviews[1]))\n",
    "                row['Review NA'] = False\n",
    "                row['Review Date Diff Days'] = (last_review - first_review).days\n",
    "                row['Last Review Date'] = last_review.timestamp()\n",
    "                row['First Review Date'] = first_review.timestamp()\n",
    "            else:\n",
    "                row['Review NA'] = True\n",
    "                row['Last Review Date'] = 0\n",
    "                row['First Review Date'] = 0\n",
    "                row['Review Date Diff Days'] = 0\n",
    "            return row\n",
    "        return data.apply(inner_process_reviews, axis=1)\n",
    "    \n",
    "    def process_cuisine(self, data):\n",
    "        \"\"\"Process cuisine\n",
    "        \n",
    "        Parse string into a list of cuisine tags.\n",
    "        Take top N cuisine tags and mark others with \"OTHER\" tag\n",
    "        Binarize labels with MultiLabelBinarizer\n",
    "        \"\"\"\n",
    "        def process_cuisine_style(cuisine):\n",
    "            \"\"\"Translate list of cuisine tags string into a list.\n",
    "\n",
    "            It's simpler to use literal_eval from ast then\n",
    "            replace single quotes with double quote and parse it as JSON.\n",
    "            \"\"\"\n",
    "            if isinstance(cuisine, list):\n",
    "                return cuisine\n",
    "            elif isinstance(cuisine, str):\n",
    "                return literal_eval(cuisine)\n",
    "            return []\n",
    "\n",
    "        data['Cuisine Style'] = data['Cuisine Style'][data['Cuisine Style'].notnull()].apply(process_cuisine_style)\n",
    "        \n",
    "        c_sum = data['Cuisine Style'].sum()\n",
    "        cuisine_counter = Counter(c_sum)\n",
    "        top_cuisines = set(row[0] for row in cuisine_counter.most_common(self.TOP_CUISINE_COUNT))\n",
    "        \n",
    "        def trim_cuisine_styles(cuisine_style):\n",
    "            \"\"\"Save only top cuisines, trim others and replace them with `OTHER`\"\"\"\n",
    "            s = set(cuisine_style)\n",
    "            # intersection with top cuisines\n",
    "            result = list(s & top_cuisines)\n",
    "            # check if there any cuisine from OTHER category\n",
    "            other = s - top_cuisines\n",
    "            if other:\n",
    "                result.append(self.OTHER_CUISINE_KEY)\n",
    "            return result\n",
    "\n",
    "        cuisines = data['Cuisine Style'].apply(trim_cuisine_styles)\n",
    "        mlb = MultiLabelBinarizer()\n",
    "        labeled_styles = mlb.fit_transform(cuisines)\n",
    "        cuisines_df = pd.DataFrame(labeled_styles, columns=mlb.classes_, index=data.index)\n",
    "        data = data.merge(cuisines_df, left_index=True, right_index=True)\n",
    "        return data"
   ]
  },
  {
   "cell_type": "code",
   "execution_count": 209,
   "metadata": {},
   "outputs": [],
   "source": [
    "processor = DataProcessor()"
   ]
  },
  {
   "cell_type": "code",
   "execution_count": 210,
   "metadata": {},
   "outputs": [
    {
     "name": "stdout",
     "output_type": "stream",
     "text": [
      "Wall time: 3min 8s\n"
     ]
    }
   ],
   "source": [
    "%%time\n",
    "processed_data = processor.process(data)"
   ]
  },
  {
   "cell_type": "code",
   "execution_count": 203,
   "metadata": {},
   "outputs": [],
   "source": [
    "import seaborn as sns"
   ]
  },
  {
   "cell_type": "code",
   "execution_count": 206,
   "metadata": {},
   "outputs": [
    {
     "data": {
      "text/plain": [
       "<AxesSubplot:>"
      ]
     },
     "execution_count": 206,
     "metadata": {},
     "output_type": "execute_result"
    },
    {
     "data": {
      "image/png": "[encoded data removed]",
      "text/plain": [
       "<Figure size 432x288 with 2 Axes>"
      ]
     },
     "metadata": {
      "needs_background": "light"
     },
     "output_type": "display_data"
    }
   ],
   "source": [
    "sns.heatmap(processed_data[[\n",
    "    'First Review Date', 'Last Review Date', 'Number of Reviews',\n",
    "    'Price Range NA', 'Price Range Ord', 'Ranking', 'Rating',\n",
    "    'Review Date Diff Days', 'Review NA'\n",
    "]].corr())"
   ]
  },
  {
   "cell_type": "markdown",
   "metadata": {},
   "source": [
    "# Train / test data split"
   ]
  },
  {
   "cell_type": "code",
   "execution_count": 175,
   "metadata": {},
   "outputs": [],
   "source": [
    "train_data = processed_data.query('sample == 1').drop(['sample'], axis=1)\n",
    "test_data = processed_data.query('sample == 0').drop(['sample'], axis=1)\n",
    "\n",
    "y = train_data.Rating.values\n",
    "X = train_data.drop(['Rating'], axis = 1)"
   ]
  },
  {
   "cell_type": "code",
   "execution_count": 21,
   "metadata": {},
   "outputs": [],
   "source": [
    "# Загружаем специальный инструмент для разбивки:\n",
    "from sklearn.model_selection import train_test_split"
   ]
  },
  {
   "cell_type": "code",
   "execution_count": 176,
   "metadata": {},
   "outputs": [],
   "source": [
    "# Наборы данных с меткой \"train\" будут использоваться для обучения модели, \"test\" - для тестирования.\n",
    "# Для тестирования мы будем использовать 25% от исходного датасета.\n",
    "X_train, X_test, y_train, y_test = train_test_split(X, y, test_size=0.25)"
   ]
  },
  {
   "cell_type": "markdown",
   "metadata": {},
   "source": [
    "# Model training"
   ]
  },
  {
   "cell_type": "code",
   "execution_count": 23,
   "metadata": {},
   "outputs": [],
   "source": [
    "# Импортируем необходимые библиотеки:\n",
    "from sklearn.ensemble import RandomForestRegressor # инструмент для создания и обучения модели\n",
    "from sklearn import metrics # инструменты для оценки точности модели"
   ]
  },
  {
   "cell_type": "code",
   "execution_count": 177,
   "metadata": {},
   "outputs": [],
   "source": [
    "# Создаём модель\n",
    "regr = RandomForestRegressor(n_estimators=100)\n",
    "\n",
    "# Обучаем модель на тестовом наборе данных\n",
    "regr.fit(X_train, y_train)\n",
    "\n",
    "# Используем обученную модель для предсказания рейтинга ресторанов в тестовой выборке.\n",
    "# Предсказанные значения записываем в переменную y_pred\n",
    "y_pred = regr.predict(X_test)"
   ]
  },
  {
   "cell_type": "code",
   "execution_count": 72,
   "metadata": {},
   "outputs": [
    {
     "data": {
      "text/plain": [
       "<AxesSubplot:>"
      ]
     },
     "execution_count": 72,
     "metadata": {},
     "output_type": "execute_result"
    },
    {
     "data": {
      "image/png": "[encoded data removed]",
      "text/plain": [
       "<Figure size 432x288 with 1 Axes>"
      ]
     },
     "metadata": {
      "needs_background": "light"
     },
     "output_type": "display_data"
    }
   ],
   "source": [
    "# check the most used features\n",
    "f_imp = pd.Series(regr.feature_importances_, index=X.columns)\n",
    "f_imp.nlargest(20).plot(kind='barh')"
   ]
  },
  {
   "cell_type": "code",
   "execution_count": 178,
   "metadata": {},
   "outputs": [
    {
     "name": "stdout",
     "output_type": "stream",
     "text": [
      "MAE: 0.210013\n"
     ]
    }
   ],
   "source": [
    "# Сравниваем предсказанные значения (y_pred) с реальными (y_test), и смотрим насколько они в среднем отличаются\n",
    "# Метрика называется Mean Absolute Error (MAE) и показывает среднее отклонение предсказанных значений от фактических.\n",
    "print('MAE:', metrics.mean_absolute_error(y_test, y_pred))"
   ]
  },
  {
   "cell_type": "markdown",
   "metadata": {},
   "source": [
    "## SUBMISSION"
   ]
  },
  {
   "cell_type": "code",
   "execution_count": 180,
   "metadata": {},
   "outputs": [],
   "source": [
    "test_data = test_data.drop(['Rating'], axis=1)"
   ]
  },
  {
   "cell_type": "code",
   "execution_count": 181,
   "metadata": {},
   "outputs": [],
   "source": [
    "predict_submission = regr.predict(test_data)"
   ]
  },
  {
   "cell_type": "code",
   "execution_count": 185,
   "metadata": {},
   "outputs": [],
   "source": [
    "sample_submission['Rating'] = predict_submission\n",
    "sample_submission.to_csv('my_submission.csv', index=False)"
   ]
  },
  {
   "cell_type": "code",
   "execution_count": 194,
   "metadata": {},
   "outputs": [
    {
     "data": {
      "text/html": [
       "<div>\n",
       "<style scoped>\n",
       "    .dataframe tbody tr th:only-of-type {\n",
       "        vertical-align: middle;\n",
       "    }\n",
       "\n",
       "    .dataframe tbody tr th {\n",
       "        vertical-align: top;\n",
       "    }\n",
       "\n",
       "    .dataframe thead th {\n",
       "        text-align: right;\n",
       "    }\n",
       "</style>\n",
       "<table border=\"1\" class=\"dataframe\">\n",
       "  <thead>\n",
       "    <tr style=\"text-align: right;\">\n",
       "      <th></th>\n",
       "      <th>Restaurant_id</th>\n",
       "      <th>Rating</th>\n",
       "    </tr>\n",
       "  </thead>\n",
       "  <tbody>\n",
       "    <tr>\n",
       "      <th>514</th>\n",
       "      <td>id_514</td>\n",
       "      <td>2.5</td>\n",
       "    </tr>\n",
       "    <tr>\n",
       "      <th>665</th>\n",
       "      <td>id_665</td>\n",
       "      <td>1.0</td>\n",
       "    </tr>\n",
       "    <tr>\n",
       "      <th>7812</th>\n",
       "      <td>id_7812</td>\n",
       "      <td>2.5</td>\n",
       "    </tr>\n",
       "    <tr>\n",
       "      <th>2665</th>\n",
       "      <td>id_2665</td>\n",
       "      <td>2.5</td>\n",
       "    </tr>\n",
       "  </tbody>\n",
       "</table>\n",
       "</div>"
      ],
      "text/plain": [
       "     Restaurant_id  Rating\n",
       "514         id_514     2.5\n",
       "665         id_665     1.0\n",
       "7812       id_7812     2.5\n",
       "2665       id_2665     2.5"
      ]
     },
     "execution_count": 194,
     "metadata": {},
     "output_type": "execute_result"
    }
   ],
   "source": [
    "sample_submission.sample(4)"
   ]
  }
 ],
 "metadata": {
  "kernelspec": {
   "display_name": "Python 3",
   "language": "python",
   "name": "python3"
  },
  "language_info": {
   "codemirror_mode": {
    "name": "ipython",
    "version": 3
   },
   "file_extension": ".py",
   "mimetype": "text/x-python",
   "name": "python",
   "nbconvert_exporter": "python",
   "pygments_lexer": "ipython3",
   "version": "3.8.2"
  }
 },
 "nbformat": 4,
 "nbformat_minor": 2
}
